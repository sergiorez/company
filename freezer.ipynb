{
  "cells": [
    {
      "cell_type": "markdown",
      "metadata": {
        "id": "view-in-github",
        "colab_type": "text"
      },
      "source": [
        "<a href=\"https://colab.research.google.com/github/sergiorez/company/blob/main/freezer.ipynb\" target=\"_parent\"><img src=\"https://colab.research.google.com/assets/colab-badge.svg\" alt=\"Open In Colab\"/></a>"
      ]
    },
    {
      "cell_type": "code",
      "execution_count": null,
      "metadata": {
        "id": "oRfRAm26oJ3J"
      },
      "outputs": [],
      "source": [
        "import pandas as pd\n",
        "import matplotlib.pyplot as plt\n",
        "from scipy.signal import find_peaks"
      ]
    },
    {
      "cell_type": "code",
      "execution_count": null,
      "metadata": {
        "id": "XPLxzU8l2sM6"
      },
      "outputs": [],
      "source": [
        "dados = pd.read_csv('freezer_data.csv')"
      ]
    },
    {
      "cell_type": "code",
      "source": [
        "print(dados)"
      ],
      "metadata": {
        "id": "9B0Ac41SCkVf"
      },
      "execution_count": null,
      "outputs": []
    },
    {
      "cell_type": "code",
      "source": [
        "plt.plot(dados['temperature'])\n",
        "plt.grid()"
      ],
      "metadata": {
        "id": "dXAovDPO_Hk8"
      },
      "execution_count": null,
      "outputs": []
    },
    {
      "cell_type": "code",
      "source": [
        "print('Temperatura Media:', round(dados['temperature'].mean(), 1))"
      ],
      "metadata": {
        "id": "EtdBPuHxDYiX"
      },
      "execution_count": null,
      "outputs": []
    },
    {
      "cell_type": "code",
      "source": [
        "dados['time'] = pd.to_datetime(dados['time'], format='%Y-%m-%d %H:%M:%S')"
      ],
      "metadata": {
        "id": "oo0PFDXW_PLj"
      },
      "execution_count": null,
      "outputs": []
    },
    {
      "cell_type": "code",
      "source": [
        "plt.figure(figsize=(16, 8))\n",
        "plt.plot(dados['time'], dados['temperature'])\n",
        "plt.grid()"
      ],
      "metadata": {
        "id": "KuVT1u31_Sai"
      },
      "execution_count": null,
      "outputs": []
    },
    {
      "cell_type": "code",
      "source": [
        "picos, _ = find_peaks(dados['temperature'], height=-5)"
      ],
      "metadata": {
        "id": "6_awWPXg_ubc"
      },
      "execution_count": null,
      "outputs": []
    },
    {
      "cell_type": "code",
      "source": [
        "print(picos)"
      ],
      "metadata": {
        "id": "1iSPH200_xM5"
      },
      "execution_count": null,
      "outputs": []
    },
    {
      "cell_type": "code",
      "source": [
        "print('Quantidade de Picos:', len(picos))"
      ],
      "metadata": {
        "id": "ic-HFTRx_2n2"
      },
      "execution_count": null,
      "outputs": []
    },
    {
      "cell_type": "code",
      "source": [
        "plt.figure(figsize=(16, 8))\n",
        "plt.plot(dados['time'], dados['temperature'])\n",
        "plt.grid()\n",
        "for pico in picos:\n",
        "    plt.text(dados['time'][pico], dados['temperature'][pico], round(dados['temperature'][pico], 1))"
      ],
      "metadata": {
        "id": "eutMYwQ0_8ui"
      },
      "execution_count": null,
      "outputs": []
    },
    {
      "cell_type": "code",
      "source": [
        "periodos = []\n",
        "for i in range(1, len(picos)):\n",
        "    periodos.append((dados['time'][picos[i]] - dados['time'][picos[i - 1]]).total_seconds() / 3600)\n"
      ],
      "metadata": {
        "id": "XxiRhidzAP5q"
      },
      "execution_count": null,
      "outputs": []
    },
    {
      "cell_type": "code",
      "source": [
        "print('Periodo Minimo:', round(min(periodos), 1))\n",
        "print('Periodo Maximo:', round(max(periodos), 1))\n",
        "print('Periodo Medio:', round(sum(periodos) / len(periodos), 1))"
      ],
      "metadata": {
        "id": "CWngdJ5cAV8J"
      },
      "execution_count": null,
      "outputs": []
    }
  ],
  "metadata": {
    "accelerator": "GPU",
    "colab": {
      "provenance": [],
      "authorship_tag": "ABX9TyNNmoMO5rl2hVrbDp2rz/nS",
      "include_colab_link": true
    },
    "kernelspec": {
      "display_name": "Python 3",
      "name": "python3"
    },
    "language_info": {
      "name": "python"
    }
  },
  "nbformat": 4,
  "nbformat_minor": 0
}